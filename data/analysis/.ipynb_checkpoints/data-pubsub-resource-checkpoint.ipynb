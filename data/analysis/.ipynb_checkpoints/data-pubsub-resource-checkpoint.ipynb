{
 "cells": [
  {
   "cell_type": "code",
   "execution_count": 1,
   "id": "5fa06470",
   "metadata": {},
   "outputs": [],
   "source": [
    "# Import the necessary libraries\n",
    "import pandas as pd\n",
    "import matplotlib.pyplot as plt\n",
    "import matplotlib.ticker as ticker\n",
    "from scipy.stats import f_oneway\n",
    "import seaborn as sns"
   ]
  },
  {
   "cell_type": "code",
   "execution_count": 2,
   "id": "9b954896",
   "metadata": {},
   "outputs": [],
   "source": [
    "# Load the data from the external CSV file into a Pandas DataFrame\n",
    "file_path = '../resource-pubsub.csv'  # Replace with the actual path to your CSV file\n",
    "df = pd.read_csv(file_path)\n",
    "\n",
    "labels = ['pub_py', 'pub_cpp', 'sub_py', 'sub_cpp']"
   ]
  },
  {
   "cell_type": "code",
   "execution_count": 21,
   "id": "efe3522b",
   "metadata": {
    "scrolled": true
   },
   "outputs": [
    {
     "data": {
      "image/png": "[encoded data removed]",
      "text/plain": [
       "<Figure size 576x288 with 1 Axes>"
      ]
     },
     "metadata": {},
     "output_type": "display_data"
    }
   ],
   "source": [
    "# CPU Usage\n",
    "\n",
    "plt.figure(figsize=(8, 4))\n",
    "\n",
    "data_to_plot = [df[df['label'] == label]['cpu'] for label in labels]\n",
    "\n",
    "#plt.ylim(1.2*1e8, 1.8*1e8)\n",
    "\n",
    "plt.boxplot(data_to_plot, labels=labels)\n",
    "\n",
    "plt.ylabel('CPU (%)', fontsize=14)\n",
    "plt.xticks(fontsize=14)\n",
    "\n",
    "plt.savefig('figs/whisker_pubsub_cpu_usage.pdf')\n",
    "\n",
    "plt.show()"
   ]
  },
  {
   "cell_type": "code",
   "execution_count": 6,
   "id": "d261950f",
   "metadata": {},
   "outputs": [
    {
     "data": {
      "image/png": "[encoded data removed]",
      "text/plain": [
       "<Figure size 576x432 with 1 Axes>"
      ]
     },
     "metadata": {
      "needs_background": "light"
     },
     "output_type": "display_data"
    }
   ],
   "source": [
    "# DRAM Usage\n",
    "\n",
    "# Calculate the mean 'mem' values for each 'label'\n",
    "mean_mem = df.groupby('label')['mem'].mean().reset_index()\n",
    "\n",
    "plt.figure(figsize=(8, 6))\n",
    "plt.xlabel('ROS Algorithm')\n",
    "plt.ylabel('Mean DRAM (MB)')\n",
    "plt.xticks(rotation=45)\n",
    "\n",
    "labels = mean_mem['label']\n",
    "data_to_plot = mean_mem['mem']\n",
    "\n",
    "plt.bar(labels, data_to_plot)\n",
    "\n",
    "#plt.ylim(1.5e7, 4e7)  # You can adjust the ylim as needed\n",
    "\n",
    "plt.savefig('figs/mean_dram_pubsub.pdf')\n",
    "\n",
    "plt.show()"
   ]
  },
  {
   "cell_type": "code",
   "execution_count": null,
   "id": "df034b46",
   "metadata": {},
   "outputs": [],
   "source": []
  },
  {
   "cell_type": "code",
   "execution_count": null,
   "id": "ab77510d",
   "metadata": {},
   "outputs": [],
   "source": []
  },
  {
   "cell_type": "code",
   "execution_count": null,
   "id": "48fdee64",
   "metadata": {},
   "outputs": [],
   "source": []
  },
  {
   "cell_type": "code",
   "execution_count": null,
   "id": "c905d8e6",
   "metadata": {},
   "outputs": [],
   "source": []
  },
  {
   "cell_type": "code",
   "execution_count": null,
   "id": "37bd77f8",
   "metadata": {},
   "outputs": [],
   "source": []
  },
  {
   "cell_type": "code",
   "execution_count": 7,
   "id": "001c5e0e",
   "metadata": {
    "scrolled": true
   },
   "outputs": [
    {
     "name": "stdout",
     "output_type": "stream",
     "text": [
      "label\n",
      "pub_cpp    0.176667\n",
      "pub_py     1.144700\n",
      "sub_cpp    0.136667\n",
      "sub_py     1.144600\n",
      "Name: cpu, dtype: float64\n",
      "label\n",
      "pub_cpp    0.20\n",
      "pub_py     1.38\n",
      "sub_cpp    0.16\n",
      "sub_py     1.39\n",
      "Name: cpu, dtype: float64\n",
      "label\n",
      "pub_cpp    0.13\n",
      "pub_py     0.99\n",
      "sub_cpp    0.10\n",
      "sub_py     1.01\n",
      "Name: cpu, dtype: float64\n",
      "label\n",
      "pub_cpp    0.20\n",
      "pub_py     1.14\n",
      "sub_cpp    0.15\n",
      "sub_py     1.13\n",
      "Name: cpu, dtype: float64\n",
      "label\n",
      "pub_cpp    0.040415\n",
      "pub_py     0.074893\n",
      "sub_cpp    0.032146\n",
      "sub_py     0.086333\n",
      "Name: cpu, dtype: float64\n"
     ]
    }
   ],
   "source": [
    "# Statistics\n",
    "\n",
    "mean_power_by_label = df.groupby('label')['cpu'].mean()\n",
    "print(mean_power_by_label)\n",
    "\n",
    "max_power_by_label = df.groupby('label')['cpu'].max()\n",
    "print(max_power_by_label)\n",
    "\n",
    "min_power_by_label = df.groupby('label')['cpu'].min()\n",
    "print(min_power_by_label)\n",
    "\n",
    "avg_power_by_label = df.groupby('label')['cpu'].median()\n",
    "print(avg_power_by_label)\n",
    "\n",
    "std_power_by_label = df.groupby('label')['cpu'].std()\n",
    "print(std_power_by_label)"
   ]
  },
  {
   "cell_type": "code",
   "execution_count": 8,
   "id": "b34b95fc",
   "metadata": {
    "scrolled": true
   },
   "outputs": [
    {
     "data": {
      "text/html": [
       "<div>\n",
       "<style scoped>\n",
       "    .dataframe tbody tr th:only-of-type {\n",
       "        vertical-align: middle;\n",
       "    }\n",
       "\n",
       "    .dataframe tbody tr th {\n",
       "        vertical-align: top;\n",
       "    }\n",
       "\n",
       "    .dataframe thead th {\n",
       "        text-align: right;\n",
       "    }\n",
       "</style>\n",
       "<table border=\"1\" class=\"dataframe\">\n",
       "  <thead>\n",
       "    <tr style=\"text-align: right;\">\n",
       "      <th></th>\n",
       "      <th>exec</th>\n",
       "      <th>label</th>\n",
       "      <th>timestamp</th>\n",
       "      <th>cpu</th>\n",
       "      <th>mem</th>\n",
       "    </tr>\n",
       "  </thead>\n",
       "  <tbody>\n",
       "    <tr>\n",
       "      <th>0</th>\n",
       "      <td>0.0</td>\n",
       "      <td>pub_py</td>\n",
       "      <td>1696851621</td>\n",
       "      <td>1.13</td>\n",
       "      <td>232.0</td>\n",
       "    </tr>\n",
       "    <tr>\n",
       "      <th>1</th>\n",
       "      <td>1.0</td>\n",
       "      <td>sub_py</td>\n",
       "      <td>1696851674</td>\n",
       "      <td>NaN</td>\n",
       "      <td>892.0</td>\n",
       "    </tr>\n",
       "    <tr>\n",
       "      <th>2</th>\n",
       "      <td>2.0</td>\n",
       "      <td>NaN</td>\n",
       "      <td>1696851727</td>\n",
       "      <td>NaN</td>\n",
       "      <td>NaN</td>\n",
       "    </tr>\n",
       "    <tr>\n",
       "      <th>3</th>\n",
       "      <td>NaN</td>\n",
       "      <td>NaN</td>\n",
       "      <td>1696851780</td>\n",
       "      <td>NaN</td>\n",
       "      <td>NaN</td>\n",
       "    </tr>\n",
       "    <tr>\n",
       "      <th>4</th>\n",
       "      <td>NaN</td>\n",
       "      <td>NaN</td>\n",
       "      <td>1696851833</td>\n",
       "      <td>NaN</td>\n",
       "      <td>NaN</td>\n",
       "    </tr>\n",
       "    <tr>\n",
       "      <th>...</th>\n",
       "      <td>...</td>\n",
       "      <td>...</td>\n",
       "      <td>...</td>\n",
       "      <td>...</td>\n",
       "      <td>...</td>\n",
       "    </tr>\n",
       "    <tr>\n",
       "      <th>98</th>\n",
       "      <td>NaN</td>\n",
       "      <td>NaN</td>\n",
       "      <td>1696856811</td>\n",
       "      <td>NaN</td>\n",
       "      <td>NaN</td>\n",
       "    </tr>\n",
       "    <tr>\n",
       "      <th>99</th>\n",
       "      <td>NaN</td>\n",
       "      <td>NaN</td>\n",
       "      <td>1696856864</td>\n",
       "      <td>NaN</td>\n",
       "      <td>NaN</td>\n",
       "    </tr>\n",
       "    <tr>\n",
       "      <th>100</th>\n",
       "      <td>NaN</td>\n",
       "      <td>NaN</td>\n",
       "      <td>1696861884</td>\n",
       "      <td>NaN</td>\n",
       "      <td>NaN</td>\n",
       "    </tr>\n",
       "    <tr>\n",
       "      <th>101</th>\n",
       "      <td>NaN</td>\n",
       "      <td>NaN</td>\n",
       "      <td>1696861937</td>\n",
       "      <td>NaN</td>\n",
       "      <td>NaN</td>\n",
       "    </tr>\n",
       "    <tr>\n",
       "      <th>102</th>\n",
       "      <td>NaN</td>\n",
       "      <td>NaN</td>\n",
       "      <td>1696861990</td>\n",
       "      <td>NaN</td>\n",
       "      <td>NaN</td>\n",
       "    </tr>\n",
       "  </tbody>\n",
       "</table>\n",
       "<p>103 rows × 5 columns</p>\n",
       "</div>"
      ],
      "text/plain": [
       "     exec   label   timestamp   cpu    mem\n",
       "0     0.0  pub_py  1696851621  1.13  232.0\n",
       "1     1.0  sub_py  1696851674   NaN  892.0\n",
       "2     2.0     NaN  1696851727   NaN    NaN\n",
       "3     NaN     NaN  1696851780   NaN    NaN\n",
       "4     NaN     NaN  1696851833   NaN    NaN\n",
       "..    ...     ...         ...   ...    ...\n",
       "98    NaN     NaN  1696856811   NaN    NaN\n",
       "99    NaN     NaN  1696856864   NaN    NaN\n",
       "100   NaN     NaN  1696861884   NaN    NaN\n",
       "101   NaN     NaN  1696861937   NaN    NaN\n",
       "102   NaN     NaN  1696861990   NaN    NaN\n",
       "\n",
       "[103 rows x 5 columns]"
      ]
     },
     "execution_count": 8,
     "metadata": {},
     "output_type": "execute_result"
    }
   ],
   "source": [
    "df.mode()"
   ]
  },
  {
   "cell_type": "code",
   "execution_count": 9,
   "id": "fa7567c2",
   "metadata": {},
   "outputs": [
    {
     "data": {
      "image/png": "[encoded data removed]",
      "text/plain": [
       "<Figure size 576x432 with 1 Axes>"
      ]
     },
     "metadata": {
      "needs_background": "light"
     },
     "output_type": "display_data"
    }
   ],
   "source": [
    "# Skewed Distribution Graph\n",
    "data = df['cpu']\n",
    "\n",
    "# Create a histogram to visualize the skewed distribution\n",
    "plt.figure(figsize=(8, 6))\n",
    "plt.hist(data, bins=50, density=True, alpha=0.6, color='b', label='Occurrences')\n",
    "\n",
    "\n",
    "# Add a legend\n",
    "plt.legend()\n",
    "\n",
    "# Show the plot\n",
    "plt.show()"
   ]
  },
  {
   "cell_type": "code",
   "execution_count": 10,
   "id": "510c763f",
   "metadata": {},
   "outputs": [],
   "source": [
    "pub_py_data = df[df['label'] == 'pub_py']['cpu']\n",
    "pub_cpp_data = df[df['label'] == 'pub_cpp']['cpu']\n",
    "sub_py_data = df[df['label'] == 'sub_py']['cpu']\n",
    "sub_cpp_data = df[df['label'] == 'sub_cpp']['cpu']"
   ]
  },
  {
   "cell_type": "code",
   "execution_count": 11,
   "id": "ce97f531",
   "metadata": {},
   "outputs": [],
   "source": [
    "# Perform one-way ANOVA\n",
    "f_statistic, p_value = f_oneway(pub_py_data, pub_cpp_data)"
   ]
  },
  {
   "cell_type": "code",
   "execution_count": 12,
   "id": "1fbaf3ab",
   "metadata": {},
   "outputs": [
    {
     "name": "stdout",
     "output_type": "stream",
     "text": [
      "F-statistic: 493.5351\n",
      "P-value: 0.0000\n",
      "Reject the null hypothesis: There is a significant difference between groups.\n"
     ]
    }
   ],
   "source": [
    "# Perform one-way ANOVA\n",
    "f_statistic, p_value = f_oneway(pub_py_data, pub_cpp_data)\n",
    "\n",
    "# Set the significance level\n",
    "alpha = 0.05\n",
    "\n",
    "# Print the results\n",
    "print(f'F-statistic: {f_statistic:.4f}')\n",
    "print(f'P-value: {p_value:.4f}')\n",
    "\n",
    "# Perform a hypothesis test\n",
    "if p_value < alpha:\n",
    "    print('Reject the null hypothesis: There is a significant difference between groups.')\n",
    "else:\n",
    "    print('Fail to reject the null hypothesis: There is no significant difference between groups.')"
   ]
  },
  {
   "cell_type": "code",
   "execution_count": 13,
   "id": "c7c805a6",
   "metadata": {},
   "outputs": [
    {
     "data": {
      "image/png": "[encoded data removed]",
      "text/plain": [
       "<Figure size 432x288 with 1 Axes>"
      ]
     },
     "metadata": {},
     "output_type": "display_data"
    }
   ],
   "source": [
    "# Set the style for the plots (optional)\n",
    "sns.set(style=\"white\")\n",
    "\n",
    "# Create a probability density plot (kernel density plot) for 'pub_py'\n",
    "sns.kdeplot(pub_py_data, label='python', fill=True, color='blue')\n",
    "\n",
    "# Create a probability density plot (kernel density plot) for 'pub_cpp'\n",
    "sns.kdeplot(pub_cpp_data, label='cpp', fill=True, color='red')\n",
    "\n",
    "# Add labels and a legend\n",
    "plt.xlabel('Power Consumption (mW)',fontsize=14)\n",
    "plt.ylabel('Density',fontsize=14)\n",
    "plt.legend()\n",
    "\n",
    "plt.xticks(fontsize=10)\n",
    "plt.yticks(fontsize=10)\n",
    "\n",
    "plt.savefig('figs/prob_density_pub_pw_mw.pdf')\n",
    "\n",
    "# Show the plot\n",
    "plt.show()"
   ]
  },
  {
   "cell_type": "code",
   "execution_count": null,
   "id": "a2836a38",
   "metadata": {},
   "outputs": [],
   "source": []
  },
  {
   "cell_type": "code",
   "execution_count": null,
   "id": "77060ce0",
   "metadata": {},
   "outputs": [],
   "source": []
  },
  {
   "cell_type": "code",
   "execution_count": null,
   "id": "f9965109",
   "metadata": {},
   "outputs": [],
   "source": []
  },
  {
   "cell_type": "code",
   "execution_count": null,
   "id": "9f0178fb",
   "metadata": {},
   "outputs": [],
   "source": []
  },
  {
   "cell_type": "code",
   "execution_count": null,
   "id": "de00b3a5",
   "metadata": {},
   "outputs": [],
   "source": []
  },
  {
   "cell_type": "code",
   "execution_count": null,
   "id": "10ca4b69",
   "metadata": {},
   "outputs": [],
   "source": []
  },
  {
   "cell_type": "code",
   "execution_count": null,
   "id": "23fe7888",
   "metadata": {},
   "outputs": [],
   "source": []
  }
 ],
 "metadata": {
  "kernelspec": {
   "display_name": "Python 3 (ipykernel)",
   "language": "python",
   "name": "python3"
  },
  "language_info": {
   "codemirror_mode": {
    "name": "ipython",
    "version": 3
   },
   "file_extension": ".py",
   "mimetype": "text/x-python",
   "name": "python",
   "nbconvert_exporter": "python",
   "pygments_lexer": "ipython3",
   "version": "3.10.12"
  }
 },
 "nbformat": 4,
 "nbformat_minor": 5
}
